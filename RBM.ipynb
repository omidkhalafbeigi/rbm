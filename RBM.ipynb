{
  "nbformat": 4,
  "nbformat_minor": 0,
  "metadata": {
    "colab": {
      "name": "RBM.ipynb",
      "provenance": [],
      "collapsed_sections": [],
      "mount_file_id": "1vMwZJ0wD6Fy-OKpaKCRmrUwjZw7qqBdL",
      "authorship_tag": "ABX9TyO1ZIwog20YcCmrqbvMcOEG",
      "include_colab_link": true
    },
    "kernelspec": {
      "name": "python3",
      "display_name": "Python 3"
    },
    "language_info": {
      "name": "python"
    }
  },
  "cells": [
    {
      "cell_type": "markdown",
      "metadata": {
        "id": "view-in-github",
        "colab_type": "text"
      },
      "source": [
        "<a href=\"https://colab.research.google.com/github/omidkhalafbeigi/rbm/blob/main/RBM.ipynb\" target=\"_parent\"><img src=\"https://colab.research.google.com/assets/colab-badge.svg\" alt=\"Open In Colab\"/></a>"
      ]
    },
    {
      "cell_type": "code",
      "metadata": {
        "id": "UXH0XfwX2Cz8",
        "colab": {
          "base_uri": "https://localhost:8080/"
        },
        "outputId": "73f0e957-5b44-4faa-e73c-e2f19fee5696"
      },
      "source": [
        "import torch\n",
        "import pandas as pd\n",
        "import numpy as np\n",
        "from google.colab import drive\n",
        "from tensorflow.keras import datasets\n",
        "from sklearn.preprocessing import MinMaxScaler\n",
        "from matplotlib import pyplot as plt\n",
        "\n",
        "drive.mount('/content/drive')"
      ],
      "execution_count": 1,
      "outputs": [
        {
          "output_type": "stream",
          "name": "stdout",
          "text": [
            "Drive already mounted at /content/drive; to attempt to forcibly remount, call drive.mount(\"/content/drive\", force_remount=True).\n"
          ]
        }
      ]
    },
    {
      "cell_type": "code",
      "metadata": {
        "id": "sSujc1P6-Pk3"
      },
      "source": [
        "def load_rs_dataset():\n",
        "  original_set = data = np.array(pd.read_csv('drive/MyDrive/RS_Dataset/u1.base', sep='\\t', engine='python', header=None).iloc[:, :-1]) \n",
        "  test = np.array(pd.read_csv('drive/MyDrive/RS_Dataset/u1.test', sep='\\t', engine='python', header=None).iloc[:, :-1])\n",
        "  users = np.array(pd.read_csv('drive/MyDrive/RS_Dataset/users.dat', sep='::', engine='python', header=None))\n",
        "\n",
        "  users_count = len(set(data[:, 0]))\n",
        "  movies_count = max(max(data[:, 1]), max(test[:, 1]))\n",
        "  training_set = torch.empty(size=(users_count, movies_count), dtype=torch.float32)\n",
        "\n",
        "  for sample in data:\n",
        "    user_index = sample[0] \n",
        "    movie_index = sample[1]\n",
        "    rating = sample[2]\n",
        "\n",
        "    training_set[user_index - 1, movie_index - 1] = rating\n",
        "\n",
        "  for sample_index in range(training_set.shape[0]):\n",
        "    sample = training_set[sample_index]\n",
        "  \n",
        "    training_set[sample_index][np.argwhere(sample == 0)]  = -1\n",
        "    training_set[sample_index][np.argwhere(sample == 1)]  = 0\n",
        "    training_set[sample_index][np.argwhere(sample == 2)]  = 0\n",
        "    training_set[sample_index][np.argwhere(sample == 3)]  = 0\n",
        "    training_set[sample_index][np.argwhere(sample > 3)]  = 1\n",
        "\n",
        "  return original_set, training_set"
      ],
      "execution_count": 2,
      "outputs": []
    },
    {
      "cell_type": "code",
      "metadata": {
        "id": "6qLtYyX8H0eh"
      },
      "source": [
        "def train(training_set, hidden_nodes, epochs, batch_size, k_steps, learning_rate):\n",
        "  w = torch.randn(training_set.shape[1], hidden_nodes, dtype=torch.float32)\n",
        "  c = torch.randn(1, w.shape[1], dtype=torch.float32) # Bias for hidden nodes\n",
        "  b = torch.randn(1, training_set.shape[1], dtype=torch.float32) # Bias for visible nodes\n",
        "\n",
        "  for epoch in range(epochs):\n",
        "    for batch in range(batch_size, training_set.shape[0], batch_size):\n",
        "      vk = v0 = training_set[batch - batch_size:batch]\n",
        "      h0 = torch.sigmoid(torch.matmul(v0, w) + c)\n",
        "      for k in range(k_steps):\n",
        "        hk = torch.bernoulli(torch.sigmoid(torch.matmul(vk, w) + c))\n",
        "        vk = torch.bernoulli(torch.sigmoid(torch.matmul(hk, w.t()) + b))\n",
        "\n",
        "      hk = torch.sigmoid(torch.matmul(vk, w) + c)\n",
        "\n",
        "      w += (learning_rate * (torch.matmul(v0.t(), h0) - torch.matmul(vk.t(), hk)))\n",
        "      b += (learning_rate * torch.sum((v0 - vk), axis=0)) # Sum over all rows (dim=1 for columns)\n",
        "      c += (learning_rate * torch.sum((h0 - hk), axis=0))\n",
        "\n",
        "    print(f'Epoch: {epoch + 1}')\n",
        "\n",
        "  return {'w': w, 'b': b, 'c': c}"
      ],
      "execution_count": 3,
      "outputs": []
    },
    {
      "cell_type": "code",
      "metadata": {
        "id": "IQ3N7ye9QVeR"
      },
      "source": [
        "def predict(test, w, b, c, k_steps):\n",
        "    hk = h0 = torch.sigmoid(torch.matmul(test, w) + c)\n",
        "    for k in range(k_steps):\n",
        "      vk = torch.sigmoid(torch.matmul(hk, w.t()) + b)\n",
        "      hk = torch.sigmoid(torch.matmul(vk, w) + c)\n",
        "\n",
        "    return vk"
      ],
      "execution_count": 4,
      "outputs": []
    },
    {
      "cell_type": "code",
      "metadata": {
        "id": "t8yMY8TgrghA"
      },
      "source": [
        "def get_accuracy(predicted_array, true_array, original_set):\n",
        "  diffrences = list()\n",
        "\n",
        "  for sample in original_set:\n",
        "    user_idx = sample[0] - 1\n",
        "    movie_idx = sample[1] - 1\n",
        "    rating = sample[2]\n",
        "    diffrences.append(int(torch.bernoulli(predicted_array[user_idx, movie_idx]) == torch.bernoulli(true_array[user_idx, movie_idx])))\n",
        "\n",
        "  diffrences = np.array(diffrences)\n",
        "  accuracy = (len(diffrences[diffrences == 1]) / diffrences.shape[0])\n",
        "  \n",
        "  return accuracy"
      ],
      "execution_count": 5,
      "outputs": []
    },
    {
      "cell_type": "code",
      "metadata": {
        "id": "Va6IKSZn-CWH"
      },
      "source": [
        "original_set, training_set = load_rs_dataset()"
      ],
      "execution_count": 6,
      "outputs": []
    },
    {
      "cell_type": "code",
      "metadata": {
        "id": "0uE3ptcZC-8v"
      },
      "source": [
        "k_steps = 10\n",
        "model = train(training_set, hidden_nodes=200, epochs=100, batch_size=256, k_steps=k_steps, learning_rate=0.01)\n",
        "w, b, c = model['w'], model['b'], model['c']"
      ],
      "execution_count": null,
      "outputs": []
    }
  ]
}